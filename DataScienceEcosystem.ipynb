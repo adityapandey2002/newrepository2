{
 "cells": [
  {
   "cell_type": "markdown",
   "id": "74124d08",
   "metadata": {},
   "source": [
    "# Data Science Tools and Eosystem"
   ]
  },
  {
   "cell_type": "markdown",
   "id": "bce48f1e",
   "metadata": {},
   "source": [
    "In this notebook, Data Science Tools and Ecosystem are summarized."
   ]
  },
  {
   "cell_type": "markdown",
   "id": "ac961e30",
   "metadata": {},
   "source": [
    "**Objectives**:\n",
    "<br>List popular languages for Data Science\n",
    "<br>List common libraries for Data Science\n",
    "<br>List Data Science Tools \n",
    "<br>List Examples of Evaluating Arithmetic expressions in python"
   ]
  },
  {
   "cell_type": "markdown",
   "id": "0f0a4a15",
   "metadata": {},
   "source": [
    "Some of the popular languages that Data Scientists use are:"
   ]
  },
  {
   "cell_type": "markdown",
   "id": "de990c09",
   "metadata": {},
   "source": [
    "S.No.|Language Name\n",
    "---|----------\n",
    "1  | Python\n",
    "2  | Java\n",
    "3  | R\n"
   ]
  },
  {
   "cell_type": "markdown",
   "id": "cecdb04a",
   "metadata": {},
   "source": [
    "Some of the commonly used libraries used by Data Scientists include:"
   ]
  },
  {
   "cell_type": "markdown",
   "id": "ee3fbb68",
   "metadata": {},
   "source": [
    "S.No.| Libraries\n",
    "-----|----------\n",
    "1 | Pandas\n",
    "2 | Numpy\n",
    "3 | Scikit-learn"
   ]
  },
  {
   "cell_type": "markdown",
   "id": "07cc8258",
   "metadata": {},
   "source": [
    "Data Science Tools:\n",
    "------------------\n",
    "IDEs: Jupyter Notebooks / PyCharm / Visual Studio Code <br>Google Cloud Platform \n",
    "<br>Anaconda"
   ]
  },
  {
   "cell_type": "markdown",
   "id": "a308a4bf",
   "metadata": {},
   "source": [
    "### Below are a few examples of evaluating arithmetic expressions in python"
   ]
  },
  {
   "cell_type": "code",
   "execution_count": 1,
   "id": "92ff279c",
   "metadata": {},
   "outputs": [
    {
     "data": {
      "text/plain": [
       "17"
      ]
     },
     "execution_count": 1,
     "metadata": {},
     "output_type": "execute_result"
    }
   ],
   "source": [
    "#This a simple airthmetic expression to multiply then add integers\n",
    "(3*4)+5"
   ]
  },
  {
   "cell_type": "code",
   "execution_count": 2,
   "id": "42805c9b",
   "metadata": {},
   "outputs": [
    {
     "data": {
      "text/plain": [
       "3.3333333333333335"
      ]
     },
     "execution_count": 2,
     "metadata": {},
     "output_type": "execute_result"
    }
   ],
   "source": [
    "#This will convert 200 minutes to hours by dividing by 60\n",
    "200/60"
   ]
  },
  {
   "cell_type": "markdown",
   "id": "abdf88c7",
   "metadata": {},
   "source": [
    "## Author\n",
    "Aditya Pandey"
   ]
  },
  {
   "cell_type": "code",
   "execution_count": null,
   "id": "79d3d414",
   "metadata": {},
   "outputs": [],
   "source": []
  }
 ],
 "metadata": {
  "kernelspec": {
   "display_name": "Python 3 (ipykernel)",
   "language": "python",
   "name": "python3"
  },
  "language_info": {
   "codemirror_mode": {
    "name": "ipython",
    "version": 3
   },
   "file_extension": ".py",
   "mimetype": "text/x-python",
   "name": "python",
   "nbconvert_exporter": "python",
   "pygments_lexer": "ipython3",
   "version": "3.11.3"
  }
 },
 "nbformat": 4,
 "nbformat_minor": 5
}
